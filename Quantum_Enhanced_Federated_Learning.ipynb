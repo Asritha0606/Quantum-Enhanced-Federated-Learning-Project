{
  "nbformat": 4,
  "nbformat_minor": 0,
  "metadata": {
    "colab": {
      "provenance": []
    },
    "kernelspec": {
      "name": "python3",
      "display_name": "Python 3"
    },
    "language_info": {
      "name": "python"
    }
  },
  "cells": [
    {
      "cell_type": "markdown",
      "source": [
        "**DATA PREPARATION**"
      ],
      "metadata": {
        "id": "ZCptayO-3EIf"
      }
    },
    {
      "cell_type": "code",
      "execution_count": null,
      "metadata": {
        "id": "apmeWYtv3CLD"
      },
      "outputs": [],
      "source": [
        "import requests\n",
        "\n",
        "url = 'https://nihcc.app.box.com/v/ChestXray-NIHCC/file/256057950659'  # Replace with the direct URL\n",
        "output_file = 'Data_Entry_2017.csv'\n",
        "\n",
        "response = requests.get(url, stream=True)\n",
        "if response.status_code == 200:\n",
        "    with open(output_file, 'wb') as f:\n",
        "        for chunk in response.iter_content(1024):\n",
        "            f.write(chunk)\n",
        "    print(f\"Downloaded {output_file}\")\n",
        "else:\n",
        "    print(\"Failed to download file.\")\n"
      ]
    },
    {
      "cell_type": "code",
      "source": [
        "import pandas as pd\n",
        "data = pd.read_csv('/content/Data_Entry_2017_v2020.csv')\n",
        "print(data.head())\n"
      ],
      "metadata": {
        "colab": {
          "base_uri": "https://localhost:8080/"
        },
        "id": "1-qU0Fje3wxX",
        "outputId": "bf48468c-f8ab-4e4d-f005-e8a0f108beeb"
      },
      "execution_count": 1,
      "outputs": [
        {
          "output_type": "stream",
          "name": "stdout",
          "text": [
            "        Image Index          Finding Labels  Follow-up #  Patient ID  \\\n",
            "0  00000001_000.png            Cardiomegaly            0           1   \n",
            "1  00000001_001.png  Cardiomegaly|Emphysema            1           1   \n",
            "2  00000001_002.png   Cardiomegaly|Effusion            2           1   \n",
            "3  00000002_000.png              No Finding            0           2   \n",
            "4  00000003_001.png                  Hernia            0           3   \n",
            "\n",
            "   Patient Age Patient Gender View Position  OriginalImage[Width  Height]  \\\n",
            "0           57              M            PA                 2682     2749   \n",
            "1           58              M            PA                 2894     2729   \n",
            "2           58              M            PA                 2500     2048   \n",
            "3           80              M            PA                 2500     2048   \n",
            "4           74              F            PA                 2500     2048   \n",
            "\n",
            "   OriginalImagePixelSpacing[x     y]  \n",
            "0                        0.143  0.143  \n",
            "1                        0.143  0.143  \n",
            "2                        0.168  0.168  \n",
            "3                        0.171  0.171  \n",
            "4                        0.168  0.168  \n"
          ]
        }
      ]
    },
    {
      "cell_type": "code",
      "source": [
        "import numpy as np\n",
        "from sklearn.preprocessing import MinMaxScaler\n",
        "from transformers import BertTokenizer, BertModel\n",
        "\n",
        "# Assume `images` and `texts` are numpy arrays of image and text data.\n",
        "scaler = MinMaxScaler()\n",
        "images = np.array(images)\n",
        "texts = np.array(texts)\n",
        "\n",
        "# Normalize image data\n",
        "images = scaler.fit_transform(images.reshape(-1, images.shape[1] * images.shape[2]))\n",
        "images = images.reshape(-1, 28, 28)  # Reshape if images are 28x28 for example\n",
        "\n",
        "# Tokenize text data with BERT tokenizer\n",
        "tokenizer = BertTokenizer.from_pretrained('bert-base-uncased')\n",
        "tokens = tokenizer(list(texts), padding=True, truncation=True, return_tensors=\"pt\")\n",
        "\n",
        "# Data augmentation for images (simple flipping as an example)\n",
        "augmented_images = np.flip(images, axis=2)  # Flip horizontally\n"
      ],
      "metadata": {
        "id": "EtEBWB2Z3zce"
      },
      "execution_count": null,
      "outputs": []
    },
    {
      "cell_type": "markdown",
      "source": [
        "**Quantum-Enhanced Federated Learning Model Design**"
      ],
      "metadata": {
        "id": "jlQV27wt4QG9"
      }
    },
    {
      "cell_type": "code",
      "source": [
        "from qiskit import Aer\n",
        "from qiskit.utils import QuantumInstance\n",
        "from qiskit.circuit.library import ZZFeatureMap\n",
        "from qiskit_machine_learning.kernels import QuantumKernel\n",
        "from sklearn.svm import SVC\n",
        "\n",
        "# Quantum feature map and quantum kernel\n",
        "feature_map = ZZFeatureMap(feature_dimension=2, reps=2)\n",
        "backend = Aer.get_backend('statevector_simulator')\n",
        "quantum_instance = QuantumInstance(backend)\n",
        "\n",
        "# Define Quantum Kernel\n",
        "quantum_kernel = QuantumKernel(feature_map=feature_map, quantum_instance=quantum_instance)\n",
        "\n",
        "# Quantum Support Vector Classifier\n",
        "qsvm = SVC(kernel=quantum_kernel.evaluate)\n",
        "qsvm.fit(X_train, y_train)\n"
      ],
      "metadata": {
        "id": "XKLj9Ss04Typ"
      },
      "execution_count": null,
      "outputs": []
    },
    {
      "cell_type": "markdown",
      "source": [
        "**Privacy and Security Protocols**"
      ],
      "metadata": {
        "id": "uclz2V8g4bpv"
      }
    },
    {
      "cell_type": "code",
      "source": [
        "import torch\n",
        "import syft as sy\n",
        "from syft.frameworks.torch.dp import pate\n",
        "\n",
        "hook = sy.TorchHook(torch)\n",
        "epsilon, delta = 0.5, 1e-5  # Differential privacy parameters\n",
        "\n",
        "# Federated data\n",
        "alice = sy.VirtualWorker(hook, id=\"alice\")\n",
        "bob = sy.VirtualWorker(hook, id=\"bob\")\n",
        "data_ptr = data.send(alice, bob)  # Send data to workers\n",
        "\n",
        "# Add differential privacy to model gradients\n",
        "noise = torch.normal(mean=0, std=0.1, size=model.weight.size())\n",
        "model.weight.grad += noise\n"
      ],
      "metadata": {
        "id": "WYmnEtGK4YG7"
      },
      "execution_count": null,
      "outputs": []
    },
    {
      "cell_type": "markdown",
      "source": [
        "**Federated Model Training**"
      ],
      "metadata": {
        "id": "oMZ6nrLZ4kxC"
      }
    },
    {
      "cell_type": "code",
      "source": [
        "import torch\n",
        "import torch.nn as nn\n",
        "import torch.optim as optim\n",
        "import syft as sy\n",
        "\n",
        "# Define a basic neural network model\n",
        "class SimpleNN(nn.Module):\n",
        "    def __init__(self):\n",
        "        super(SimpleNN, self).__init__()\n",
        "        self.fc1 = nn.Linear(28 * 28, 64)\n",
        "        self.fc2 = nn.Linear(64, 10)\n",
        "\n",
        "    def forward(self, x):\n",
        "        x = torch.flatten(x, 1)\n",
        "        x = torch.relu(self.fc1(x))\n",
        "        return torch.softmax(self.fc2(x), dim=1)\n",
        "\n",
        "# Training in a federated environment\n",
        "model = SimpleNN().send(alice)\n",
        "optimizer = optim.SGD(model.parameters(), lr=0.01)\n",
        "criterion = nn.CrossEntropyLoss()\n",
        "\n",
        "for epoch in range(10):\n",
        "    optimizer.zero_grad()\n",
        "    output = model(data_ptr)\n",
        "    loss = criterion(output, target_ptr)\n",
        "    loss.backward()\n",
        "    optimizer.step()\n",
        "    print(f\"Epoch {epoch}, Loss: {loss.get()}\")\n"
      ],
      "metadata": {
        "id": "s3KI2x9s4kWN"
      },
      "execution_count": null,
      "outputs": []
    },
    {
      "cell_type": "markdown",
      "source": [
        "**Deployment and Monitoring**"
      ],
      "metadata": {
        "id": "TZRrIhk14yK7"
      }
    },
    {
      "cell_type": "code",
      "source": [
        "from fastapi import FastAPI\n",
        "import torch\n",
        "\n",
        "app = FastAPI()\n",
        "\n",
        "# Load model (assuming saved in 'model.pth')\n",
        "model = torch.load('model.pth')\n",
        "model.eval()\n",
        "\n",
        "@app.post(\"/predict/\")\n",
        "async def predict(data: List[float]):\n",
        "    with torch.no_grad():\n",
        "        input_data = torch.tensor(data).float()\n",
        "        prediction = model(input_data)\n",
        "        return {\"prediction\": prediction.argmax().item()}\n",
        "\n",
        "# Run with `uvicorn` in terminal: `uvicorn app:app --reload`\n"
      ],
      "metadata": {
        "id": "0ma25DHN41ko"
      },
      "execution_count": null,
      "outputs": []
    },
    {
      "cell_type": "markdown",
      "source": [
        "**Model Monitoring & Retraining**"
      ],
      "metadata": {
        "id": "xxUnAM7P44D1"
      }
    },
    {
      "cell_type": "code",
      "source": [
        "for batch in new_data_batches:\n",
        "    output = model(batch)\n",
        "    loss = criterion(output, batch_target)\n",
        "    loss.backward()\n",
        "    optimizer.step()\n"
      ],
      "metadata": {
        "id": "YMI1icEP47j7"
      },
      "execution_count": null,
      "outputs": []
    },
    {
      "cell_type": "markdown",
      "source": [
        "**COMPLETE CODE for quantum-enhanced federated learning**"
      ],
      "metadata": {
        "id": "MBXYGlPA7MTH"
      }
    },
    {
      "cell_type": "code",
      "source": [
        "# Import libraries\n",
        "import torch\n",
        "import syft as sy  # For federated learning\n",
        "from torch import nn\n",
        "from sklearn.model_selection import train_test_split\n",
        "from sklearn.metrics import accuracy_score\n",
        "from qiskit import Aer, QuantumCircuit\n",
        "from qiskit.utils import QuantumInstance\n",
        "from qiskit_machine_learning.algorithms import QSVM\n",
        "from qiskit_machine_learning.kernels import QuantumKernel\n",
        "import numpy as np\n",
        "from flask import Flask, request, jsonify\n",
        "\n",
        "# Step 1: Data Loading and Preparation\n",
        "def load_and_preprocess_data():\n",
        "    # Placeholder for loading real healthcare data (both structured and unstructured)\n",
        "    # Replace this with actual data loading and preprocessing steps\n",
        "    # E.g., normalization, NLP for text data, augmentation for image data\n",
        "    data = pd.read_csv('/content/Data_Entry_2017_v2020.csv')  # Simulated feature set\n",
        "    labels = np.random.randint(2, size=100)  # Simulated binary labels\n",
        "    return train_test_split(data, labels, test_size=0.2)\n",
        "\n",
        "# Step 2: Quantum Model Creation\n",
        "def create_quantum_model():\n",
        "    # Quantum backend and feature map for QSVM\n",
        "    backend = Aer.get_backend('statevector_simulator')\n",
        "    quantum_instance = QuantumInstance(backend)\n",
        "    feature_map = QuantumCircuit(3)  # Example 3-qubit feature map\n",
        "    feature_map.h(range(3))\n",
        "    feature_map.cz(0, 1)\n",
        "    quantum_kernel = QuantumKernel(feature_map=feature_map, quantum_instance=quantum_instance)\n",
        "    return QSVM(quantum_kernel)\n",
        "\n",
        "# Step 3: Federated Learning Setup\n",
        "def federated_learning_setup(num_workers):\n",
        "    hook = sy.TorchHook(torch)\n",
        "    remote_workers = [sy.VirtualWorker(hook, id=f\"worker_{i}\") for i in range(num_workers)]\n",
        "    return remote_workers\n",
        "\n",
        "# Step 4: Privacy Protocols (Differential Privacy)\n",
        "def apply_differential_privacy(model, epsilon=0.1, delta=1e-5):\n",
        "    # Differential privacy application with Opacus or native PySyft privacy utils\n",
        "    # Placeholder - expand based on requirements\n",
        "    return model\n",
        "\n",
        "# Step 5: Federated Model Training\n",
        "def train_federated_model(model, train_data, train_labels, workers):\n",
        "    # Convert data to PySyft FederatedDataset, split across workers\n",
        "    train_dataset = sy.BaseDataset(torch.tensor(train_data).float(), torch.tensor(train_labels).long())\n",
        "    federated_train_loader = sy.FederatedDataLoader(train_dataset.federate(tuple(workers)), batch_size=10)\n",
        "\n",
        "    optimizer = torch.optim.SGD(model.parameters(), lr=0.01)\n",
        "    criterion = nn.CrossEntropyLoss()\n",
        "\n",
        "    for epoch in range(3):  # Example epoch count\n",
        "        for batch_idx, (data, target) in enumerate(federated_train_loader):\n",
        "            optimizer.zero_grad()\n",
        "            output = model(data)\n",
        "            loss = criterion(output, target)\n",
        "            loss.backward()\n",
        "            optimizer.step()\n",
        "            print(f\"Epoch {epoch}, Batch {batch_idx}, Loss: {loss.item()}\")\n",
        "\n",
        "    return model\n",
        "\n",
        "# Step 6: Model Evaluation\n",
        "def evaluate_model(model, test_data, test_labels):\n",
        "    model.eval()\n",
        "    predictions = model.predict(test_data)\n",
        "    accuracy = accuracy_score(test_labels, predictions)\n",
        "    print(f\"Accuracy: {accuracy}\")\n",
        "    return accuracy\n",
        "\n",
        "# Step 7: Deployment API\n",
        "app = Flask(__name__)\n",
        "\n",
        "@app.route(\"/predict\", methods=[\"POST\"])\n",
        "def predict():\n",
        "    data = request.json.get('data')\n",
        "    data = np.array(data).reshape(1, -1)\n",
        "    prediction = trained_model.predict(data)  # Assuming `trained_model` is the final model\n",
        "    return jsonify({\"prediction\": prediction[0]})\n",
        "\n",
        "if __name__ == \"__main__\":\n",
        "    # Load and preprocess data\n",
        "    X_train, X_test, y_train, y_test = load_and_preprocess_data()\n",
        "\n",
        "    # Initialize quantum-enhanced federated model\n",
        "    quantum_model = create_quantum_model()\n",
        "\n",
        "    # Setup federated workers\n",
        "    num_workers = 3\n",
        "    workers = federated_learning_setup(num_workers)\n",
        "\n",
        "    # Train federated model\n",
        "    federated_trained_model = train_federated_model(quantum_model, X_train, y_train, workers)\n",
        "\n",
        "    # Evaluate model\n",
        "    evaluate_model(federated_trained_model, X_test, y_test)\n",
        "\n",
        "    # Run API server\n",
        "    app.run(port=5000)\n"
      ],
      "metadata": {
        "id": "xF2pByWL6v1C"
      },
      "execution_count": null,
      "outputs": []
    }
  ]
}